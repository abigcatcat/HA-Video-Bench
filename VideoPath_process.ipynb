{
 "cells": [
  {
   "cell_type": "code",
   "execution_count": null,
   "metadata": {},
   "outputs": [],
   "source": [
    "import os\n",
    "prompt4dimension = []\n",
    "\n",
    "promptpath = './Prompts4dimensions'\n",
    "for file in os.listdir(promptpath):\n",
    "    dimension = file.split(\".\")[0]\n",
    "    with open(os.path.join(promptpath, file), \"r\") as f:\n",
    "        promptlines = f.readlines()\n",
    "        for line in promptlines:\n",
    "            tmp ={'prompt': line.strip(), 'dimension': dimension}\n",
    "            prompt4dimension.append(tmp)"
   ]
  },
  {
   "cell_type": "code",
   "execution_count": 2,
   "metadata": {},
   "outputs": [],
   "source": [
    "import json\n",
    "\n",
    "# Define the file path\n",
    "json_file_path = 'HHLBench_full.json'\n",
    "\n",
    "# Create a dictionary to store the variables\n",
    "\n",
    "# Save the variables as JSON\n",
    "with open(json_file_path, 'w') as json_file:\n",
    "    json.dump(prompt4dimension, json_file, indent=4)"
   ]
  },
  {
   "cell_type": "code",
   "execution_count": null,
   "metadata": {},
   "outputs": [
    {
     "name": "stdout",
     "output_type": "stream",
     "text": [
      "overall_consistency\n",
      "scene\n",
      "object_class\n",
      "action\n",
      "color\n",
      "temporal_consistency\n",
      "motion_effects\n",
      "imaging_quality\n",
      "aesthetic_quality\n"
     ]
    }
   ],
   "source": [
    "models = ['cogvideox5b','gen3','kling','videocrafter2','pika','show1','lavie']\n",
    "dimensions = ['overall_consistency', 'scene', 'object_class','action','color','temporal_consistency','motion_effects','imaging_quality','aesthetic_quality']\n",
    "dimension4data = {\n",
    "    \"temporal_consistency\": \"action\",\n",
    "    \"aesthetic_quality\": \"overall_consistency\",\n",
    "    \"imaging_quality\": \"overall_consistency\",\n",
    "    \"motion_effects\": \"action\",\n",
    "    \"object_class\": \"object_class\",\n",
    "    \"color\": \"color\",\n",
    "    \"scene\": \"scene\",\n",
    "    \"action\": \"action\",\n",
    "    \"event_order\": \"event_order\",\n",
    "    \"overall_consistency\": \"overall_consistency\"\n",
    "}\n",
    "\n",
    "human_anno_path = '../Human_anno/'\n",
    "with open(json_file_path, 'r') as f:\n",
    "    prompt4dimension = json.load(f)\n",
    "\n",
    "\n",
    "for dimension in dimensions:\n",
    "    dim4data = dimension4data[dimension]\n",
    "    print(dimension)\n",
    "    jsonlist = []\n",
    "    video_path = {}\n",
    "\n",
    "    for prompt in prompt4dimension: \n",
    "        if prompt['dimension'] != dim4data:\n",
    "              continue\n",
    "        else:\n",
    "            for videos4prompt in range(0,3):\n",
    "                meta_dict = {\n",
    "                            \"prompt_en\": \"prompt\",\n",
    "                            \"videos\": {},\n",
    "                            \"eval_result\": {},\n",
    "                            }\n",
    "                meta_dict['prompt_en'] = prompt['prompt']\n",
    "                for model in models:\n",
    "                    video_filename = f\"{dim4data}/{model}/{prompt['prompt']}_{videos4prompt}.mp4\"\n",
    "                    meta_dict['videos'][model] = video_filename\n",
    "                    meta_dict['eval_result'][model] = 0\n",
    "                jsonlist.append(meta_dict)\n",
    "\n",
    "    json_file_path = os.path.join(human_anno_path, dimension+\".json\")\n",
    "    with open(json_file_path, 'w') as json_file:\n",
    "        json.dump(jsonlist, json_file, indent=4)"
   ]
  },
  {
   "cell_type": "code",
   "execution_count": null,
   "metadata": {},
   "outputs": [],
   "source": []
  }
 ],
 "metadata": {
  "kernelspec": {
   "display_name": "base",
   "language": "python",
   "name": "python3"
  },
  "language_info": {
   "codemirror_mode": {
    "name": "ipython",
    "version": 3
   },
   "file_extension": ".py",
   "mimetype": "text/x-python",
   "name": "python",
   "nbconvert_exporter": "python",
   "pygments_lexer": "ipython3",
   "version": "3.9.19"
  }
 },
 "nbformat": 4,
 "nbformat_minor": 2
}
